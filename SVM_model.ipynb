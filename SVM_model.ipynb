{
  "nbformat": 4,
  "nbformat_minor": 0,
  "metadata": {
    "colab": {
      "name": "SVM_model.ipynb",
      "provenance": [],
      "include_colab_link": true
    },
    "kernelspec": {
      "name": "python3",
      "display_name": "Python 3"
    }
  },
  "cells": [
    {
      "cell_type": "markdown",
      "metadata": {
        "id": "view-in-github",
        "colab_type": "text"
      },
      "source": [
      ]
    },
    {
      "cell_type": "markdown",
      "metadata": {
        "id": "fuHZ0eMlht5A",
        "colab_type": "text"
      },
      "source": [
        "\n",
        "## First, we start by importing the required libraries"
      ]
    },
    {
      "cell_type": "code",
      "metadata": {
        "id": "nvXHiv3ShlgA",
        "colab_type": "code",
        "colab": {}
      },
      "source": [
        "# importing libraries\n",
        "import pandas as pd\n",
        "import numpy as np\n",
        "import matplotlib.pyplot as plt\n",
        "import seaborn as sns\n",
        "import datetime as dt\n",
        "from sklearn.metrics import mean_squared_error, r2_score\n",
        "from sklearn.preprocessing import LabelEncoder\n",
        "from sklearn.model_selection import train_test_split\n",
        "from pandas.plotting import scatter_matrix\n",
        "from sklearn.metrics import accuracy_score"
      ],
      "execution_count": 0,
      "outputs": []
    },
    {
      "cell_type": "markdown",
      "metadata": {
        "id": "SSPCteMKh1q4",
        "colab_type": "text"
      },
      "source": [
        "## We then load the data from the github url"
      ]
    },
    {
      "cell_type": "code",
      "metadata": {
        "id": "HXiDW_U9hshZ",
        "colab_type": "code",
        "colab": {}
      },
      "source": [
        "url = 'https://raw.githubusercontent.com/tna-hub/Cloud-TP2/master/dataset.csv'\n",
        "data = pd.read_csv(url)\n",
        "data = data.set_index('No')"
      ],
      "execution_count": 0,
      "outputs": []
    },
    {
      "cell_type": "markdown",
      "metadata": {
        "id": "WumqxCUbkdpS",
        "colab_type": "text"
      },
      "source": [
        "## After loading the data, we clean them from NaN values (empty cells) and unecessary columns (Removing 'PM2.5','PM10','SO2','NO2','CO','O3' columns and rows having cells with NaN values)"
      ]
    },
    {
      "cell_type": "code",
      "metadata": {
        "id": "r6nWuk1Q0aPg",
        "colab_type": "code",
        "outputId": "d17cdfff-78d8-43d1-bebd-cad790ea3c9f",
        "colab": {
          "base_uri": "https://localhost:8080/",
          "height": 455
        }
      },
      "source": [
        "cols = ['PM2.5','PM10','SO2','NO2','CO','O3']\n",
        "data = data.drop(cols,axis=1)\n",
        "data = data.dropna()\n",
        "data"
      ],

      "outputs": [
        {
          "output_type": "execute_result",
          "data": {
            "text/html": [
              "<div>\n",
              "<style scoped>\n",
              "    .dataframe tbody tr th:only-of-type {\n",
              "        vertical-align: middle;\n",
              "    }\n",
              "\n",
              "    .dataframe tbody tr th {\n",
              "        vertical-align: top;\n",
              "    }\n",
              "\n",
              "    .dataframe thead th {\n",
              "        text-align: right;\n",
              "    }\n",
              "</style>\n",
              "<table border=\"1\" class=\"dataframe\">\n",
              "  <thead>\n",
              "    <tr style=\"text-align: right;\">\n",
              "      <th></th>\n",
              "      <th>year</th>\n",
              "      <th>month</th>\n",
              "      <th>day</th>\n",
              "      <th>hour</th>\n",
              "      <th>TEMP</th>\n",
              "      <th>PRES</th>\n",
              "      <th>DEWP</th>\n",
              "      <th>RAIN</th>\n",
              "      <th>wd</th>\n",
              "      <th>WSPM</th>\n",
              "      <th>station</th>\n",
              "    </tr>\n",
              "    <tr>\n",
              "      <th>No</th>\n",
              "      <th></th>\n",
              "      <th></th>\n",
              "      <th></th>\n",
              "      <th></th>\n",
              "      <th></th>\n",
              "      <th></th>\n",
              "      <th></th>\n",
              "      <th></th>\n",
              "      <th></th>\n",
              "      <th></th>\n",
              "      <th></th>\n",
              "    </tr>\n",
              "  </thead>\n",
              "  <tbody>\n",
              "    <tr>\n",
              "      <th>1</th>\n",
              "      <td>2013</td>\n",
              "      <td>3</td>\n",
              "      <td>1</td>\n",
              "      <td>0</td>\n",
              "      <td>0.1</td>\n",
              "      <td>1021.1</td>\n",
              "      <td>-18.6</td>\n",
              "      <td>0.0</td>\n",
              "      <td>NW</td>\n",
              "      <td>4.4</td>\n",
              "      <td>Gucheng</td>\n",
              "    </tr>\n",
              "    <tr>\n",
              "      <th>2</th>\n",
              "      <td>2013</td>\n",
              "      <td>3</td>\n",
              "      <td>1</td>\n",
              "      <td>1</td>\n",
              "      <td>-0.3</td>\n",
              "      <td>1021.5</td>\n",
              "      <td>-19.0</td>\n",
              "      <td>0.0</td>\n",
              "      <td>NW</td>\n",
              "      <td>4.0</td>\n",
              "      <td>Gucheng</td>\n",
              "    </tr>\n",
              "    <tr>\n",
              "      <th>3</th>\n",
              "      <td>2013</td>\n",
              "      <td>3</td>\n",
              "      <td>1</td>\n",
              "      <td>2</td>\n",
              "      <td>-0.7</td>\n",
              "      <td>1021.5</td>\n",
              "      <td>-19.8</td>\n",
              "      <td>0.0</td>\n",
              "      <td>WNW</td>\n",
              "      <td>4.6</td>\n",
              "      <td>Gucheng</td>\n",
              "    </tr>\n",
              "    <tr>\n",
              "      <th>4</th>\n",
              "      <td>2013</td>\n",
              "      <td>3</td>\n",
              "      <td>1</td>\n",
              "      <td>3</td>\n",
              "      <td>-1.0</td>\n",
              "      <td>1022.7</td>\n",
              "      <td>-21.2</td>\n",
              "      <td>0.0</td>\n",
              "      <td>W</td>\n",
              "      <td>2.8</td>\n",
              "      <td>Gucheng</td>\n",
              "    </tr>\n",
              "    <tr>\n",
              "      <th>5</th>\n",
              "      <td>2013</td>\n",
              "      <td>3</td>\n",
              "      <td>1</td>\n",
              "      <td>4</td>\n",
              "      <td>-1.3</td>\n",
              "      <td>1023.0</td>\n",
              "      <td>-21.4</td>\n",
              "      <td>0.0</td>\n",
              "      <td>WNW</td>\n",
              "      <td>3.6</td>\n",
              "      <td>Gucheng</td>\n",
              "    </tr>\n",
              "    <tr>\n",
              "      <th>...</th>\n",
              "      <td>...</td>\n",
              "      <td>...</td>\n",
              "      <td>...</td>\n",
              "      <td>...</td>\n",
              "      <td>...</td>\n",
              "      <td>...</td>\n",
              "      <td>...</td>\n",
              "      <td>...</td>\n",
              "      <td>...</td>\n",
              "      <td>...</td>\n",
              "      <td>...</td>\n",
              "    </tr>\n",
              "    <tr>\n",
              "      <th>35060</th>\n",
              "      <td>2017</td>\n",
              "      <td>2</td>\n",
              "      <td>28</td>\n",
              "      <td>19</td>\n",
              "      <td>12.6</td>\n",
              "      <td>1011.9</td>\n",
              "      <td>-14.3</td>\n",
              "      <td>0.0</td>\n",
              "      <td>N</td>\n",
              "      <td>2.0</td>\n",
              "      <td>Wanliu</td>\n",
              "    </tr>\n",
              "    <tr>\n",
              "      <th>35061</th>\n",
              "      <td>2017</td>\n",
              "      <td>2</td>\n",
              "      <td>28</td>\n",
              "      <td>20</td>\n",
              "      <td>9.4</td>\n",
              "      <td>1012.3</td>\n",
              "      <td>-11.9</td>\n",
              "      <td>0.0</td>\n",
              "      <td>WSW</td>\n",
              "      <td>1.0</td>\n",
              "      <td>Wanliu</td>\n",
              "    </tr>\n",
              "    <tr>\n",
              "      <th>35062</th>\n",
              "      <td>2017</td>\n",
              "      <td>2</td>\n",
              "      <td>28</td>\n",
              "      <td>21</td>\n",
              "      <td>8.7</td>\n",
              "      <td>1012.8</td>\n",
              "      <td>-13.7</td>\n",
              "      <td>0.0</td>\n",
              "      <td>N</td>\n",
              "      <td>1.1</td>\n",
              "      <td>Wanliu</td>\n",
              "    </tr>\n",
              "    <tr>\n",
              "      <th>35063</th>\n",
              "      <td>2017</td>\n",
              "      <td>2</td>\n",
              "      <td>28</td>\n",
              "      <td>22</td>\n",
              "      <td>7.8</td>\n",
              "      <td>1012.9</td>\n",
              "      <td>-12.6</td>\n",
              "      <td>0.0</td>\n",
              "      <td>NNE</td>\n",
              "      <td>1.0</td>\n",
              "      <td>Wanliu</td>\n",
              "    </tr>\n",
              "    <tr>\n",
              "      <th>35064</th>\n",
              "      <td>2017</td>\n",
              "      <td>2</td>\n",
              "      <td>28</td>\n",
              "      <td>23</td>\n",
              "      <td>7.0</td>\n",
              "      <td>1012.6</td>\n",
              "      <td>-11.2</td>\n",
              "      <td>0.0</td>\n",
              "      <td>NE</td>\n",
              "      <td>1.1</td>\n",
              "      <td>Wanliu</td>\n",
              "    </tr>\n",
              "  </tbody>\n",
              "</table>\n",
              "<p>383879 rows × 11 columns</p>\n",
              "</div>"
            ],
            "text/plain": [
              "       year  month  day  hour  TEMP    PRES  DEWP  RAIN   wd  WSPM  station\n",
              "No                                                                         \n",
              "1      2013      3    1     0   0.1  1021.1 -18.6   0.0   NW   4.4  Gucheng\n",
              "2      2013      3    1     1  -0.3  1021.5 -19.0   0.0   NW   4.0  Gucheng\n",
              "3      2013      3    1     2  -0.7  1021.5 -19.8   0.0  WNW   4.6  Gucheng\n",
              "4      2013      3    1     3  -1.0  1022.7 -21.2   0.0    W   2.8  Gucheng\n",
              "5      2013      3    1     4  -1.3  1023.0 -21.4   0.0  WNW   3.6  Gucheng\n",
              "...     ...    ...  ...   ...   ...     ...   ...   ...  ...   ...      ...\n",
              "35060  2017      2   28    19  12.6  1011.9 -14.3   0.0    N   2.0   Wanliu\n",
              "35061  2017      2   28    20   9.4  1012.3 -11.9   0.0  WSW   1.0   Wanliu\n",
              "35062  2017      2   28    21   8.7  1012.8 -13.7   0.0    N   1.1   Wanliu\n",
              "35063  2017      2   28    22   7.8  1012.9 -12.6   0.0  NNE   1.0   Wanliu\n",
              "35064  2017      2   28    23   7.0  1012.6 -11.2   0.0   NE   1.1   Wanliu\n",
              "\n",
              "[383879 rows x 11 columns]"
            ]
          },
          "metadata": {
            "tags": []
          },
          "execution_count": 14
        }
      ]
    },
    {
      "cell_type": "markdown",
      "metadata": {
        "id": "MULEkN87jMv3",
        "colab_type": "text"
      },
      "source": [
        "## As asked in the assignment, we categorize the temperature into verycold, cold, hot or veryhot. At the end of this cell, the TEMP column will be categorized and not having any numerical values"
      ]
    },
    {
      "cell_type": "code",
      "metadata": {
        "id": "6zDlEUn1jVVQ",
        "colab_type": "code",
        "outputId": "2b95d90a-a84f-42fe-cfd5-038511e11862",
        "colab": {
          "base_uri": "https://localhost:8080/",
          "height": 455
        }
      },
      "source": [
        "def categorizeTemp(column):\n",
        "    temp_cat = column.apply(\n",
        "    lambda x: 'verycold' if x <0 else (\n",
        "        'cold' if 0<=x< 10 else (\n",
        "            'moderate' if 10<=x<20 else (\n",
        "                'hot' if 20<=x<30 else 'veryhot'))))\n",
        "    return temp_cat\n",
        "\n",
        "data.TEMP = categorizeTemp(data.TEMP)\n",
        "data"
      ],
      "outputs": [
        {
          "output_type": "execute_result",
          "data": {
            "text/html": [
              "<div>\n",
              "<style scoped>\n",
              "    .dataframe tbody tr th:only-of-type {\n",
              "        vertical-align: middle;\n",
              "    }\n",
              "\n",
              "    .dataframe tbody tr th {\n",
              "        vertical-align: top;\n",
              "    }\n",
              "\n",
              "    .dataframe thead th {\n",
              "        text-align: right;\n",
              "    }\n",
              "</style>\n",
              "<table border=\"1\" class=\"dataframe\">\n",
              "  <thead>\n",
              "    <tr style=\"text-align: right;\">\n",
              "      <th></th>\n",
              "      <th>year</th>\n",
              "      <th>month</th>\n",
              "      <th>day</th>\n",
              "      <th>hour</th>\n",
              "      <th>TEMP</th>\n",
              "      <th>PRES</th>\n",
              "      <th>DEWP</th>\n",
              "      <th>RAIN</th>\n",
              "      <th>wd</th>\n",
              "      <th>WSPM</th>\n",
              "      <th>station</th>\n",
              "    </tr>\n",
              "    <tr>\n",
              "      <th>No</th>\n",
              "      <th></th>\n",
              "      <th></th>\n",
              "      <th></th>\n",
              "      <th></th>\n",
              "      <th></th>\n",
              "      <th></th>\n",
              "      <th></th>\n",
              "      <th></th>\n",
              "      <th></th>\n",
              "      <th></th>\n",
              "      <th></th>\n",
              "    </tr>\n",
              "  </thead>\n",
              "  <tbody>\n",
              "    <tr>\n",
              "      <th>1</th>\n",
              "      <td>2013</td>\n",
              "      <td>3</td>\n",
              "      <td>1</td>\n",
              "      <td>0</td>\n",
              "      <td>cold</td>\n",
              "      <td>1021.1</td>\n",
              "      <td>-18.6</td>\n",
              "      <td>0.0</td>\n",
              "      <td>NW</td>\n",
              "      <td>4.4</td>\n",
              "      <td>Gucheng</td>\n",
              "    </tr>\n",
              "    <tr>\n",
              "      <th>2</th>\n",
              "      <td>2013</td>\n",
              "      <td>3</td>\n",
              "      <td>1</td>\n",
              "      <td>1</td>\n",
              "      <td>verycold</td>\n",
              "      <td>1021.5</td>\n",
              "      <td>-19.0</td>\n",
              "      <td>0.0</td>\n",
              "      <td>NW</td>\n",
              "      <td>4.0</td>\n",
              "      <td>Gucheng</td>\n",
              "    </tr>\n",
              "    <tr>\n",
              "      <th>3</th>\n",
              "      <td>2013</td>\n",
              "      <td>3</td>\n",
              "      <td>1</td>\n",
              "      <td>2</td>\n",
              "      <td>verycold</td>\n",
              "      <td>1021.5</td>\n",
              "      <td>-19.8</td>\n",
              "      <td>0.0</td>\n",
              "      <td>WNW</td>\n",
              "      <td>4.6</td>\n",
              "      <td>Gucheng</td>\n",
              "    </tr>\n",
              "    <tr>\n",
              "      <th>4</th>\n",
              "      <td>2013</td>\n",
              "      <td>3</td>\n",
              "      <td>1</td>\n",
              "      <td>3</td>\n",
              "      <td>verycold</td>\n",
              "      <td>1022.7</td>\n",
              "      <td>-21.2</td>\n",
              "      <td>0.0</td>\n",
              "      <td>W</td>\n",
              "      <td>2.8</td>\n",
              "      <td>Gucheng</td>\n",
              "    </tr>\n",
              "    <tr>\n",
              "      <th>5</th>\n",
              "      <td>2013</td>\n",
              "      <td>3</td>\n",
              "      <td>1</td>\n",
              "      <td>4</td>\n",
              "      <td>verycold</td>\n",
              "      <td>1023.0</td>\n",
              "      <td>-21.4</td>\n",
              "      <td>0.0</td>\n",
              "      <td>WNW</td>\n",
              "      <td>3.6</td>\n",
              "      <td>Gucheng</td>\n",
              "    </tr>\n",
              "    <tr>\n",
              "      <th>...</th>\n",
              "      <td>...</td>\n",
              "      <td>...</td>\n",
              "      <td>...</td>\n",
              "      <td>...</td>\n",
              "      <td>...</td>\n",
              "      <td>...</td>\n",
              "      <td>...</td>\n",
              "      <td>...</td>\n",
              "      <td>...</td>\n",
              "      <td>...</td>\n",
              "      <td>...</td>\n",
              "    </tr>\n",
              "    <tr>\n",
              "      <th>35060</th>\n",
              "      <td>2017</td>\n",
              "      <td>2</td>\n",
              "      <td>28</td>\n",
              "      <td>19</td>\n",
              "      <td>moderate</td>\n",
              "      <td>1011.9</td>\n",
              "      <td>-14.3</td>\n",
              "      <td>0.0</td>\n",
              "      <td>N</td>\n",
              "      <td>2.0</td>\n",
              "      <td>Wanliu</td>\n",
              "    </tr>\n",
              "    <tr>\n",
              "      <th>35061</th>\n",
              "      <td>2017</td>\n",
              "      <td>2</td>\n",
              "      <td>28</td>\n",
              "      <td>20</td>\n",
              "      <td>cold</td>\n",
              "      <td>1012.3</td>\n",
              "      <td>-11.9</td>\n",
              "      <td>0.0</td>\n",
              "      <td>WSW</td>\n",
              "      <td>1.0</td>\n",
              "      <td>Wanliu</td>\n",
              "    </tr>\n",
              "    <tr>\n",
              "      <th>35062</th>\n",
              "      <td>2017</td>\n",
              "      <td>2</td>\n",
              "      <td>28</td>\n",
              "      <td>21</td>\n",
              "      <td>cold</td>\n",
              "      <td>1012.8</td>\n",
              "      <td>-13.7</td>\n",
              "      <td>0.0</td>\n",
              "      <td>N</td>\n",
              "      <td>1.1</td>\n",
              "      <td>Wanliu</td>\n",
              "    </tr>\n",
              "    <tr>\n",
              "      <th>35063</th>\n",
              "      <td>2017</td>\n",
              "      <td>2</td>\n",
              "      <td>28</td>\n",
              "      <td>22</td>\n",
              "      <td>cold</td>\n",
              "      <td>1012.9</td>\n",
              "      <td>-12.6</td>\n",
              "      <td>0.0</td>\n",
              "      <td>NNE</td>\n",
              "      <td>1.0</td>\n",
              "      <td>Wanliu</td>\n",
              "    </tr>\n",
              "    <tr>\n",
              "      <th>35064</th>\n",
              "      <td>2017</td>\n",
              "      <td>2</td>\n",
              "      <td>28</td>\n",
              "      <td>23</td>\n",
              "      <td>cold</td>\n",
              "      <td>1012.6</td>\n",
              "      <td>-11.2</td>\n",
              "      <td>0.0</td>\n",
              "      <td>NE</td>\n",
              "      <td>1.1</td>\n",
              "      <td>Wanliu</td>\n",
              "    </tr>\n",
              "  </tbody>\n",
              "</table>\n",
              "<p>383879 rows × 11 columns</p>\n",
              "</div>"
            ],
            "text/plain": [
              "       year  month  day  hour      TEMP    PRES  DEWP  RAIN   wd  WSPM  station\n",
              "No                                                                             \n",
              "1      2013      3    1     0      cold  1021.1 -18.6   0.0   NW   4.4  Gucheng\n",
              "2      2013      3    1     1  verycold  1021.5 -19.0   0.0   NW   4.0  Gucheng\n",
              "3      2013      3    1     2  verycold  1021.5 -19.8   0.0  WNW   4.6  Gucheng\n",
              "4      2013      3    1     3  verycold  1022.7 -21.2   0.0    W   2.8  Gucheng\n",
              "5      2013      3    1     4  verycold  1023.0 -21.4   0.0  WNW   3.6  Gucheng\n",
              "...     ...    ...  ...   ...       ...     ...   ...   ...  ...   ...      ...\n",
              "35060  2017      2   28    19  moderate  1011.9 -14.3   0.0    N   2.0   Wanliu\n",
              "35061  2017      2   28    20      cold  1012.3 -11.9   0.0  WSW   1.0   Wanliu\n",
              "35062  2017      2   28    21      cold  1012.8 -13.7   0.0    N   1.1   Wanliu\n",
              "35063  2017      2   28    22      cold  1012.9 -12.6   0.0  NNE   1.0   Wanliu\n",
              "35064  2017      2   28    23      cold  1012.6 -11.2   0.0   NE   1.1   Wanliu\n",
              "\n",
              "[383879 rows x 11 columns]"
            ]
          },
          "metadata": {
            "tags": []
          },
          "execution_count": 15
        }
      ]
    },
    {
      "cell_type": "markdown",
      "metadata": {
        "id": "4oXBtDk8DE-v",
        "colab_type": "text"
      },
      "source": [
        "## These fonctions encode and reverse encode (unencode) alphabetical values to numerical ones using LabelEncoder"
      ]
    },
    {
      "cell_type": "code",
      "metadata": {
        "id": "O_JMlg_fDSWz",
        "colab_type": "code",
        "outputId": "bd89a013-b3d6-4ad2-8563-2cdf568a6b26",
        "colab": {
          "base_uri": "https://localhost:8080/",
          "height": 293
        }
      },
      "source": [
        "# Encoding String values into numerical values\n",
        "def encode(data, columns):\n",
        "  for column in columns:\n",
        "    encs = {}\n",
        "    encs[column] = LabelEncoder()\n",
        "    data[column] = encs[column].fit_transform(data[column])\n",
        "  return encs\n",
        "\n",
        "# unEncoding back String values into numerical values\n",
        "def unencode(enc, data, columns):\n",
        "  for column in columns:\n",
        "    data[column] = enc.inverse_transform(data[column])\n",
        "\n",
        "# Encoding String values into numerical values (wd, station and TEMP)\n",
        "encs = encode(data, ['wd', 'station', 'TEMP'])\n",
        "print(data)\n"
      ],
      "outputs": [
        {
          "output_type": "stream",
          "text": [
            "       year  month  day  hour  TEMP    PRES  DEWP  RAIN  wd  WSPM  station\n",
            "No                                                                        \n",
            "1      2013      3    1     0     0  1021.1 -18.6   0.0   7   4.4        5\n",
            "2      2013      3    1     1     3  1021.5 -19.0   0.0   7   4.0        5\n",
            "3      2013      3    1     2     3  1021.5 -19.8   0.0  14   4.6        5\n",
            "4      2013      3    1     3     3  1022.7 -21.2   0.0  13   2.8        5\n",
            "5      2013      3    1     4     3  1023.0 -21.4   0.0  14   3.6        5\n",
            "...     ...    ...  ...   ...   ...     ...   ...   ...  ..   ...      ...\n",
            "35060  2017      2   28    19     2  1011.9 -14.3   0.0   3   2.0       10\n",
            "35061  2017      2   28    20     0  1012.3 -11.9   0.0  15   1.0       10\n",
            "35062  2017      2   28    21     0  1012.8 -13.7   0.0   3   1.1       10\n",
            "35063  2017      2   28    22     0  1012.9 -12.6   0.0   5   1.0       10\n",
            "35064  2017      2   28    23     0  1012.6 -11.2   0.0   4   1.1       10\n",
            "\n",
            "[383879 rows x 11 columns]\n"
          ],
          "name": "stdout"
        }
      ]
    },
    {
      "cell_type": "markdown",
      "metadata": {
        "id": "Ei5ZeqhQ5Vp6",
        "colab_type": "text"
      },
      "source": [
        "## Now that the data have been cleaned and categorized, we can split the data into training and testing set.\n",
        "1. > Some models (neural network for example)  may have difficulty converging before the maximum number of iterations allowed if the data is not normalized. They may be sensitive to feature scaling, so it is highly recommended to scale the data. we also apply the same scaling to the test set for meaningful results. There are a lot of different methods for normalization of data, we  use the built-in StandardScaler for standardization. This is called Feature scaling."
      ]
    },
    {
      "cell_type": "code",
      "metadata": {
        "id": "wDq3KHTO9Mjn",
        "colab_type": "code",
      },
      "source": [
        "from sklearn.preprocessing import StandardScaler\n",
        "\n",
        "def split(data):\n",
        "  #X will be used to train the model. it is a common practice to name it upper case x\n",
        "  X = data.drop('TEMP', axis=1)\n",
        "  #y is the data that shall be predicted by the model. It is a common practice in ML to name it lower case y\n",
        "  y = data['TEMP']\n",
        "\n",
        "  #Now split into training and testing sets (20% data will be for testing)\n",
        "  X_train, X_test, y_train, y_test = train_test_split(X, y, test_size=0.20, random_state=42)\n",
        "  return X_train, X_test, y_train, y_test\n",
        "\n",
        "#split the data into test and train\n",
        "X_train, X_test, y_train, y_test = split(data)\n",
        "\n",
        "# We then scale the data.\n",
        "scaler = StandardScaler()\n",
        "# Fit only to the training data\n",
        "scaler.fit(X_train)\n",
        "\n",
        "# Now apply the transformations to the training and testing set data:\n",
        "X_train = scaler.transform(X_train)\n",
        "X_test = scaler.transform(X_test)\n",
        "X_train"
      ],
      "outputs": [
        {
          "output_type": "execute_result",
          "data": {
            "text/plain": [
              "array([[-0.55860223, -0.1518431 , -0.42243588, ...,  0.50274696,\n",
              "         0.05306727,  0.94943386],\n",
              "       [ 1.14217873,  0.13821675,  0.71407575, ...,  0.72369616,\n",
              "         0.13312504, -0.94740384],\n",
              "       [-1.40899271, -0.44190294,  0.94137808, ..., -0.60199902,\n",
              "        -0.58739485,  1.5817131 ],\n",
              "       ...,\n",
              "       [ 1.14217873, -0.73196278, -0.87704053, ...,  0.06084857,\n",
              "         0.6935294 , -0.94740384],\n",
              "       [-1.40899271,  1.58851596,  0.94137808, ..., -1.26484661,\n",
              "        -0.34722155, -0.63126422],\n",
              "       [ 0.29178825, -1.31208247, -0.08148239, ..., -1.4857958 ,\n",
              "        -0.74751038, -0.94740384]])"
            ]
          },
          "metadata": {
            "tags": []
          },
          "execution_count": 17
        }
      ]
    },
    {
      "cell_type": "markdown",
      "metadata": {
        "id": "JCZmJ3ypEf08",
        "colab_type": "text"
      },
      "source": [
        "## This is the second model (RandomForestClassifier)\n",
        "\n",
        "\n"
      ]
    },
    {
      "cell_type": "code",
      "metadata": {
        "id": "qZQIFc4BEogz",
        "colab_type": "code",
        "outputId": "1e437377-a08b-4e5a-aa91-55aed727710e",
        "colab": {
          "base_uri": "https://localhost:8080/",
          "height": 311
        }
      },
      "source": [
        "from sklearn.ensemble import RandomForestClassifier\n",
        "\n",
        "def Model2():\n",
        "  # Create the model and train the the training sets\n",
        "  model = RandomForestClassifier(max_depth=None, min_samples_split=2, min_samples_leaf=1)\n",
        "  model.fit(X_train, y_train)\n",
        "  score = round(model.score(X_test, y_test, sample_weight=None)*100, 3)\n",
        "  print(\"Accuracy of model 2 RandomForestClassifier is: {}%\".format(score))\n",
        "\n",
        "  #predicting the  Temperature\n",
        "  y_pred = model.predict(X_test)\n",
        "  df = pd.DataFrame({'Actual': y_test, 'Predicted': y_pred})\n",
        "  unencode(encs['TEMP'], df, ['Actual', 'Predicted'])\n",
        "  print(df)\n",
        "\n",
        "Model2()\n"
      ],
      "outputs": [
        {
          "output_type": "stream",
          "text": [
            "Accuracy of model 2 RandomForestClassifier is: 96.391%\n",
            "         Actual Predicted\n",
            "No                       \n",
            "31987  moderate  moderate\n",
            "18525  moderate  moderate\n",
            "2848    veryhot   veryhot\n",
            "1000   moderate  moderate\n",
            "17388      cold      cold\n",
            "...         ...       ...\n",
            "22442       hot       hot\n",
            "17796      cold      cold\n",
            "33863  verycold  verycold\n",
            "22280  moderate  moderate\n",
            "8455   verycold  verycold\n",
            "\n",
            "[76776 rows x 2 columns]\n"
          ],
          "name": "stdout"
        }
      ]
    },
    {
      "cell_type": "markdown",
      "metadata": {
        "id": "9Uh7WKZDhn2-",
        "colab_type": "text"
      },
      "source": [
        "## This is the third model (Neural Network  Multi-Layer Perceptron Classifier model \"MLPClassifier\")\n",
        "\n",
        "\n",
        " \n",
        "\n",
        "2. > Next we create the model, there are a lot of parameters we can choose to define and customize here, we will only define the hidden_layer_sizes. For this parameter we pass in a tuple consisting of the number of neurons we want at each layer, where the nth entry in the tuple represents the number of neurons in the nth layer of the MLP model. There are many ways to choose these numbers, but for simplicity we will choose 20 layers with the same number of neurons"
      ]
    },
    {
      "cell_type": "code",
      "metadata": {
        "id": "vh5Z7jqlhwqC",
        "colab_type": "code",
      },
      "source": [
        "from sklearn.neural_network import MLPClassifier\n",
        "\n",
        "def Model3():\n",
        "  # Create the model and train the the training sets\n",
        "  model = MLPClassifier(hidden_layer_sizes=(20,20,20))\n",
        "  model.fit(X_train, y_train)\n",
        "  score = round(model.score(X_test, y_test, sample_weight=None)*100, 3)\n",
        "  print(\"Accuracy of model 3 MLPClassifier is: {}%\".format(score))\n",
        "\n",
        "  #predicting the  Temperature\n",
        "  y_pred = model.predict(X_test)\n",
        "  df = pd.DataFrame({'Actual': y_test, 'Predicted': y_pred})\n",
        "  unencode(encs['TEMP'], df, ['Actual', 'Predicted'])\n",
        "  print(df)\n",
        "\n",
        "Model3()\n"
      ],
      "outputs": [
        {
          "output_type": "stream",
          "text": [
            "/usr/local/lib/python3.6/dist-packages/sklearn/neural_network/_multilayer_perceptron.py:571: ConvergenceWarning: Stochastic Optimizer: Maximum iterations (200) reached and the optimization hasn't converged yet.\n",
            "  % self.max_iter, ConvergenceWarning)\n"
          ],
          "name": "stderr"
        },
        {
          "output_type": "stream",
          "text": [
            "Accuracy of model 3 MLPClassifier is: 84.114%\n",
            "         Actual Predicted\n",
            "No                       \n",
            "31987  moderate  moderate\n",
            "18525  moderate  moderate\n",
            "2848    veryhot   veryhot\n",
            "1000   moderate  moderate\n",
            "17388      cold      cold\n",
            "...         ...       ...\n",
            "22442       hot  moderate\n",
            "17796      cold      cold\n",
            "33863  verycold  verycold\n",
            "22280  moderate  moderate\n",
            "8455   verycold  verycold\n",
            "\n",
            "[76776 rows x 2 columns]\n"
          ],
          "name": "stdout"
        }
      ]
    },
    {
      "cell_type": "markdown",
      "metadata": {
        "colab_type": "text",
        "id": "wRTieGgi-J1z"
      },
      "source": [
        "## This is the 4th model (XGBoost)\n",
        "\n",
        "> XGBoost is an implementation of gradient boosted decision trees designed for speed and performance that is dominative competitive machine learning."
      ]
    },
    {
      "cell_type": "code",
      "metadata": {
        "id": "bMz1ONcu-fyN",
        "colab_type": "code",
      },
      "source": [
        "from xgboost import XGBClassifier\n",
        "\n",
        "def Model4():\n",
        "  # Create the model and fit model no training data\n",
        "  model = XGBClassifier()\n",
        "  model.fit(X_train, y_train)\n",
        "\n",
        "  # make predictions for test data\n",
        "  y_pred = model.predict(X_test)\n",
        "  predictions = [round(value) for value in y_pred]\n",
        "\n",
        "  # evaluate predictions\n",
        "  score = round(accuracy_score(y_test, predictions)*100, 3)\n",
        "  print(\"Accuracy of model 4 XGBClassifier is: {}%\".format(score))\n",
        "  df = pd.DataFrame({'Actual': y_test, 'Predicted': y_pred})\n",
        "  print(df)\n",
        "\n",
        "Model4()"
      ],
      "outputs": [
        {
          "output_type": "stream",
          "text": [
            "Accuracy of model 4 XGBClassifier is: 76.692%\n",
            "       Actual  Predicted\n",
            "No                      \n",
            "31987       2          2\n",
            "18525       2          2\n",
            "2848        4          4\n",
            "1000        2          2\n",
            "17388       0          0\n",
            "...       ...        ...\n",
            "22442       1          1\n",
            "17796       0          2\n",
            "33863       3          3\n",
            "22280       2          2\n",
            "8455        3          3\n",
            "\n",
            "[76776 rows x 2 columns]\n"
          ],
          "name": "stdout"
        }
      ]
    },
    {
      "cell_type": "markdown",
      "metadata": {
        "colab_type": "text",
        "id": "qiIanjtGCMuY"
      },
      "source": [
        "## This is the 5th model (DecisionTreeClassifier)\n",
        "\n",
        "\n"
      ]
    },
    {
      "cell_type": "code",
      "metadata": {
        "colab_type": "code",
        "outputId": "9c75f710-6733-417a-c00f-11835205ace9",
        "id": "EyC1LI56CMur",
        "colab": {
          "base_uri": "https://localhost:8080/",
          "height": 311
        }
      },
      "source": [
        "from sklearn import tree\n",
        "\n",
        "def Model5():\n",
        "  # Create the model and train the the training sets\n",
        "  model = tree.DecisionTreeClassifier()\n",
        "  model.fit(X_train, y_train)\n",
        "  score = round(model.score(X_test, y_test, sample_weight=None)*100, 3)\n",
        "  print(\"Accuracy of model 5 DecisionTreeClassifier is: {}%\".format(score))\n",
        "\n",
        "  #predicting the  Temperature\n",
        "  y_pred = model.predict(X_test)\n",
        "  df = pd.DataFrame({'Actual': y_test, 'Predicted': y_pred})\n",
        "  unencode(encs['TEMP'], df, ['Actual', 'Predicted'])\n",
        "  print(df)\n",
        "\n",
        "Model5()\n"
      ],
      "outputs": [
        {
          "output_type": "stream",
          "text": [
            "Accuracy of model 5 DecisionTreeClassifier is: 94.415%\n",
            "         Actual Predicted\n",
            "No                       \n",
            "31987  moderate  moderate\n",
            "18525  moderate  moderate\n",
            "2848    veryhot   veryhot\n",
            "1000   moderate  moderate\n",
            "17388      cold      cold\n",
            "...         ...       ...\n",
            "22442       hot       hot\n",
            "17796      cold      cold\n",
            "33863  verycold  verycold\n",
            "22280  moderate  moderate\n",
            "8455   verycold  verycold\n",
            "\n",
            "[76776 rows x 2 columns]\n"
          ],
          "name": "stdout"
        }
      ]
    },
    {
      "cell_type": "markdown",
      "metadata": {
        "id": "EbhbBCmP_YGN",
        "colab_type": "text"
      },
      "source": [
        "## This part is the first mandatory SVM model. We used SVC to train the first model and print the results (SVM)"
      ]
    },
    {
      "cell_type": "code",
      "metadata": {
        "id": "VQBfVTH__cng",
        "colab_type": "code",
        "colab": {}
      },
      "source": [
        "from sklearn.svm import SVC\n",
        "\n",
        "def Model1():\n",
        "  # Create the model and train the the training sets\n",
        "  model.fit(X_train, y_train)\n",
        "  score = round(model.score(X_test, y_test, sample_weight=None)*100, 3)\n",
        "  print(\"Accuracy of model 1 SVM is: {}%\".format(score))\n",
        "\n",
        "  #predicting the  Temperature\n",
        "  y_pred = model.predict(X_test)\n",
        "  df = pd.DataFrame({'Actual': y_test, 'Predicted': y_pred})\n",
        "  unencode(encs['TEMP'], df, ['Actual', 'Predicted'])\n",
        "  print(df)\n",
        "\n",
        "Model1()"
      ],
      "execution_count": 0,
      "outputs": []
    }
  ]

